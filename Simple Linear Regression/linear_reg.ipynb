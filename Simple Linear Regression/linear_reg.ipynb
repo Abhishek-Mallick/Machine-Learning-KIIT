{
 "cells": [
  {
   "cell_type": "code",
   "execution_count": 1,
   "metadata": {},
   "outputs": [
    {
     "name": "stdout",
     "output_type": "stream",
     "text": [
      "     9.1  0.99523\n",
      "0    8.0  0.99007\n",
      "1    9.1  0.99769\n",
      "2    8.4  0.99386\n",
      "3    6.9  0.99508\n",
      "4    7.7  0.99630\n",
      "..   ...      ...\n",
      "94   7.8  0.99620\n",
      "95  10.2  0.99760\n",
      "96   6.1  0.99464\n",
      "97   7.3  0.99830\n",
      "98   7.3  0.99670\n",
      "\n",
      "[99 rows x 2 columns]\n"
     ]
    }
   ],
   "source": [
    "import pandas as pd\n",
    "\n",
    "df_x = pd.read_csv('Data/linearX.csv')\n",
    "df_y = pd.read_csv('Data/linearY.csv')\n",
    "\n",
    "merged_df = pd.merge(df_x, df_y, left_index=True, right_index=True)\n",
    "\n",
    "# Display the merged dataframe\n",
    "print(merged_df)"
   ]
  },
  {
   "cell_type": "code",
   "execution_count": null,
   "metadata": {},
   "outputs": [],
   "source": []
  }
 ],
 "metadata": {
  "kernelspec": {
   "display_name": "Python 3",
   "language": "python",
   "name": "python3"
  },
  "language_info": {
   "codemirror_mode": {
    "name": "ipython",
    "version": 3
   },
   "file_extension": ".py",
   "mimetype": "text/x-python",
   "name": "python",
   "nbconvert_exporter": "python",
   "pygments_lexer": "ipython3",
   "version": "3.11.4"
  }
 },
 "nbformat": 4,
 "nbformat_minor": 2
}
